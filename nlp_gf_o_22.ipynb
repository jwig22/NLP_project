{
 "cells": [
  {
   "cell_type": "code",
   "execution_count": 81,
   "metadata": {},
   "outputs": [],
   "source": [
    "# Libraries\n",
    "import nltk\n",
    "from nltk.corpus import stopwords\n",
    "from nltk.tokenize import word_tokenize\n"
   ]
  },
  {
   "cell_type": "code",
   "execution_count": 82,
   "metadata": {},
   "outputs": [],
   "source": [
    "stop_words = set(stopwords.words('english'))\n",
    "stop_words.update(\",\",\".\",\";\",\"?\",\"!\",\":\",\"[\",\"]\",\"'\",\"â\\x80¦\")"
   ]
  },
  {
   "cell_type": "code",
   "execution_count": 83,
   "metadata": {},
   "outputs": [],
   "source": [
    "f = open('./General-Conference-Scrape/gen_conf_oct_22.txt',encoding = \"ISO-8859-1\") \n",
    "raw_gco22= f.read()\n",
    "FindWordsText_gco22 = word_tokenize(raw_gco22) # Seperate text into words and preprocessing\n",
    "text_gco22 = nltk.Text(FindWordsText_gco22) # Spit out finished, searchable version of text\n",
    "filtered_text = []\n",
    "lower_text = [w for w in FindWordsText_gco22 if not w.lower() in stop_words]\n",
    "for w in lower_text:\n",
    "    if w not in stop_words:\n",
    "        filtered_text.append(w)"
   ]
  },
  {
   "cell_type": "code",
   "execution_count": 84,
   "metadata": {},
   "outputs": [],
   "source": [
    "# print(FindWordsText_gco22[0:20])\n",
    "# print(text_gco22[0:20])\n",
    "# print(filtered_text[0:20])"
   ]
  },
  {
   "cell_type": "code",
   "execution_count": 85,
   "metadata": {},
   "outputs": [
    {
     "name": "stdout",
     "output_type": "stream",
     "text": [
      "Total Words: 59183\n",
      "Total after filter: 26957\n"
     ]
    }
   ],
   "source": [
    "print(f\"Total Words: {len(text_gco22)}\\nTotal after filter: {len(filtered_text)}\")"
   ]
  },
  {
   "cell_type": "code",
   "execution_count": 86,
   "metadata": {},
   "outputs": [
    {
     "name": "stdout",
     "output_type": "stream",
     "text": [
      "Number of times 'Christ' was said: 327\n"
     ]
    }
   ],
   "source": [
    "print(f\"Number of times 'Christ' was said: {text_gco22.count('Christ')}\")"
   ]
  },
  {
   "cell_type": "code",
   "execution_count": 87,
   "metadata": {},
   "outputs": [
    {
     "name": "stdout",
     "output_type": "stream",
     "text": [
      "Displaying 25 of 327 matches:\n",
      "y concerns what The Church of Jesus Christ of Latter-day Saints and its member\n",
      "ew months ago , The Church of Jesus Christ of Latter-day Saints reported for t\n",
      "nd practiced by The Church of Jesus Christ of Latter-day Saints and by us as i\n",
      "ice of others . The Church of Jesus Christ is committed to serving those in ne\n",
      "ion teaches that our Savior , Jesus Christ , is âthe true light that lightet\n",
      "ing : âFor behold , the Spirit of Christ is given to every man , that he may\n",
      "ood , and to persuade to believe in Christ , is sent forth by the power and gi\n",
      "rian efforts of The Church of Jesus Christ of Latter-day Saints seek to follow\n",
      "the church.â11 I testify of Jesus Christ , whose light and Spirit guide all \n",
      "ut the world . In the name of Jesus Christ , amen . 12uchtdorf In preparing fo\n",
      "lly for you from our Savior , Jesus Christ . The Saviorâs Message to You My \n",
      "burden.5 I believe the Savior Jesus Christ would want you to see , feel , and \n",
      " make this possible , He sent Jesus Christ to be your Savior . Itâs the purp\n",
      "is contained in the gospel of Jesus Christ . And the fulness of that gospel is\n",
      "el is taught in The Church of Jesus Christ of Latter-day Saints . Jesus Christ\n",
      "Christ of Latter-day Saints . Jesus Christ said , âI am the way , the truth \n",
      "e important choices to make , Jesus Christ and His restored gospel are the bes\n",
      "e . When you have questions , Jesus Christ and His restored gospel are the bes\n",
      "answer . When you feel weak , Jesus Christ is your strength . He gives power t\n",
      " in your life , The Church of Jesus Christ of Latter-day Saints has prepared a\n",
      "ly have for making choices is Jesus Christ . Jesus Christ is the strength of y\n",
      "ing choices is Jesus Christ . Jesus Christ is the strength of youth . So the p\n",
      "the end of your lives.â19 Image [ Christ 's image ] Is it wrong to have rule\n",
      "You need to put your trust in Jesus Christ . He will lead you the right way . \n",
      " in declaring the doctrine of Jesus Christ . It is bold in inviting you to mak\n"
     ]
    }
   ],
   "source": [
    "text_gco22.concordance(\"Christ\")"
   ]
  },
  {
   "cell_type": "code",
   "execution_count": 88,
   "metadata": {},
   "outputs": [
    {
     "name": "stdout",
     "output_type": "stream",
     "text": [
      "god mormon the us jesus as him what it love faith and our you life\n",
      "heart in he me saints\n"
     ]
    }
   ],
   "source": [
    "text_gco22.similar(\"Christ\")"
   ]
  },
  {
   "cell_type": "code",
   "execution_count": 89,
   "metadata": {},
   "outputs": [
    {
     "name": "stdout",
     "output_type": "stream",
     "text": [
      "of_is of_he of_the of_in to_we of_who of_as of_and\n"
     ]
    }
   ],
   "source": [
    "text_gco22.common_contexts([\"Jesus\",\"Christ\",])"
   ]
  },
  {
   "cell_type": "code",
   "execution_count": 90,
   "metadata": {},
   "outputs": [
    {
     "data": {
      "image/png": "[encoded data removed]",
      "text/plain": [
       "<Figure size 640x480 with 1 Axes>"
      ]
     },
     "metadata": {},
     "output_type": "display_data"
    }
   ],
   "source": [
    "text_gco22.dispersion_plot([\"Jesus\",\"Christ\", \"repentance\", \"love\", \"peace\", \"prayer\", \"mercy\", \"God\"])"
   ]
  },
  {
   "cell_type": "code",
   "execution_count": 91,
   "metadata": {},
   "outputs": [
    {
     "data": {
      "text/plain": [
       "[('Jesus', 353),\n",
       " ('Christ', 327),\n",
       " ('us', 301),\n",
       " ('God', 209),\n",
       " ('love', 156),\n",
       " ('Lord', 146),\n",
       " ('Savior', 130),\n",
       " ('one', 121),\n",
       " ('would', 118),\n",
       " ('life', 117),\n",
       " ('faith', 114),\n",
       " ('â\\x80¦', 112),\n",
       " ('said', 106),\n",
       " ('Church', 103),\n",
       " ('know', 103),\n",
       " ('world', 99),\n",
       " ('may', 88),\n",
       " ('things', 86),\n",
       " ('Father', 86),\n",
       " ('President', 85),\n",
       " ('unto', 85),\n",
       " ('many', 81),\n",
       " ('come', 81),\n",
       " ('way', 78),\n",
       " ('children', 77)]"
      ]
     },
     "execution_count": 91,
     "metadata": {},
     "output_type": "execute_result"
    }
   ],
   "source": [
    "frequency_dist = nltk.FreqDist(filtered_text)\n",
    "frequency_dist.most_common(25)"
   ]
  },
  {
   "cell_type": "code",
   "execution_count": 92,
   "metadata": {},
   "outputs": [
    {
     "name": "stdout",
     "output_type": "stream",
     "text": [
      "Jesus Christ; Heavenly Father; Holy Ghost; Joseph Smith; President\n",
      "RussellÂ; Latter-day Saints; President Nelson; covenant path; Salt\n",
      "Lake; general conference; Area Seventies; personal revelation; Prophet\n",
      "Joseph; Beloved Son; dear brothers; atoning sacrifice; wedding\n",
      "garment; years ago; bone marrow; come unto\n"
     ]
    }
   ],
   "source": [
    "text_gco22.collocations()"
   ]
  }
 ],
 "metadata": {
  "kernelspec": {
   "display_name": "Python 3.9.2 64-bit",
   "language": "python",
   "name": "python3"
  },
  "language_info": {
   "codemirror_mode": {
    "name": "ipython",
    "version": 3
   },
   "file_extension": ".py",
   "mimetype": "text/x-python",
   "name": "python",
   "nbconvert_exporter": "python",
   "pygments_lexer": "ipython3",
   "version": "3.9.2"
  },
  "orig_nbformat": 4,
  "vscode": {
   "interpreter": {
    "hash": "31f2aee4e71d21fbe5cf8b01ff0e069b9275f58929596ceb00d14d90e3e16cd6"
   }
  }
 },
 "nbformat": 4,
 "nbformat_minor": 2
}
